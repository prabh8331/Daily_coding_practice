{
 "cells": [
  {
   "cell_type": "markdown",
   "id": "2cd77547-fbf5-4974-a8af-24f2b385ade9",
   "metadata": {},
   "source": [
    "### Pandas Practice geaksforgeaks\n",
    "https://www.geeksforgeeks.org/pandas-practice-excercises-questions-and-solutions/?ref=lbp"
   ]
  },
  {
   "cell_type": "markdown",
   "id": "b9f10f6c-c85a-471a-bda3-6d8235b5e28e",
   "metadata": {},
   "source": [
    "### Different way to create Dataframe\n"
   ]
  },
  {
   "cell_type": "code",
   "execution_count": 3,
   "id": "f0b698b3-85a0-4d82-aeb0-25b6806cf1a6",
   "metadata": {},
   "outputs": [
    {
     "name": "stdout",
     "output_type": "stream",
     "text": [
      "Collecting pandas\n",
      "  Downloading pandas-2.2.3-cp312-cp312-manylinux_2_17_x86_64.manylinux2014_x86_64.whl.metadata (89 kB)\n",
      "Requirement already satisfied: numpy>=1.26.0 in /opt/conda/lib/python3.12/site-packages (from pandas) (2.1.1)\n",
      "Requirement already satisfied: python-dateutil>=2.8.2 in /opt/conda/lib/python3.12/site-packages (from pandas) (2.9.0.post0)\n",
      "Requirement already satisfied: pytz>=2020.1 in /opt/conda/lib/python3.12/site-packages (from pandas) (2024.1)\n",
      "Collecting tzdata>=2022.7 (from pandas)\n",
      "  Downloading tzdata-2024.2-py2.py3-none-any.whl.metadata (1.4 kB)\n",
      "Requirement already satisfied: six>=1.5 in /opt/conda/lib/python3.12/site-packages (from python-dateutil>=2.8.2->pandas) (1.16.0)\n",
      "Downloading pandas-2.2.3-cp312-cp312-manylinux_2_17_x86_64.manylinux2014_x86_64.whl (12.7 MB)\n",
      "\u001b[2K   \u001b[90m━━━━━━━━━━━━━━━━━━━━━━━━━━━━━━━━━━━━━━━━\u001b[0m \u001b[32m12.7/12.7 MB\u001b[0m \u001b[31m1.3 MB/s\u001b[0m eta \u001b[36m0:00:00\u001b[0m00:01\u001b[0m00:01\u001b[0mm\n",
      "\u001b[?25hDownloading tzdata-2024.2-py2.py3-none-any.whl (346 kB)\n",
      "Installing collected packages: tzdata, pandas\n",
      "Successfully installed pandas-2.2.3 tzdata-2024.2\n",
      "\u001b[33mWARNING: Running pip as the 'root' user can result in broken permissions and conflicting behaviour with the system package manager, possibly rendering your system unusable.It is recommended to use a virtual environment instead: https://pip.pypa.io/warnings/venv. Use the --root-user-action option if you know what you are doing and want to suppress this warning.\u001b[0m\u001b[33m\n",
      "\u001b[0m"
     ]
    }
   ],
   "source": [
    "!pip3 install pandas"
   ]
  },
  {
   "cell_type": "code",
   "execution_count": 7,
   "id": "58e023b3-0fca-415c-b2cd-f86c55341785",
   "metadata": {},
   "outputs": [
    {
     "name": "stdout",
     "output_type": "stream",
     "text": [
      "Empty DataFrame\n",
      "Columns: []\n",
      "Index: []\n"
     ]
    }
   ],
   "source": [
    "# Syntax\n",
    "# pandas.DataFrame(data,index,columns)\n",
    "import pandas as pd\n",
    "\n",
    "# Create empty dataframe\n",
    "df = pd.DataFrame()\n",
    "\n",
    "print(df)"
   ]
  },
  {
   "cell_type": "code",
   "execution_count": 9,
   "id": "e282cb57-d58f-4c1c-918b-027592e731e2",
   "metadata": {},
   "outputs": [
    {
     "name": "stdout",
     "output_type": "stream",
     "text": [
      "   Name  Age\n",
      "0   tom   10\n",
      "1  nick   15\n",
      "2  juli   14\n"
     ]
    }
   ],
   "source": [
    "# Create DataFrame from lists of lists\n",
    "\n",
    "data = [['tom',10], ['nick',15], ['juli',14]]\n",
    "\n",
    "df=pd.DataFrame(data, columns=['Name','Age'])\n",
    "\n",
    "print(df)"
   ]
  },
  {
   "cell_type": "code",
   "execution_count": 18,
   "id": "c4b5c873-8577-4f32-9d51-a7c5a713f019",
   "metadata": {},
   "outputs": [
    {
     "name": "stdout",
     "output_type": "stream",
     "text": [
      "    Name  Age\n",
      "0    Tom   20\n",
      "1   nick   21\n",
      "2  krish   19\n",
      "3   jack   18\n",
      "       Name  marks\n",
      "rank1   Tom     99\n",
      "rank2  Jack     98\n",
      "rank3  nick     95\n",
      "rank4  juli     90\n",
      "     name  degree  score\n",
      "0  aparna     MBA     90\n",
      "1  pankaj     BCA     40\n",
      "2  sudhir  M.Tech     80\n",
      "3   Geeku     MBA     98\n"
     ]
    }
   ],
   "source": [
    "# Create DataFrame from Dictionary of  ndArray/Lists\n",
    "# all the arrays must be of the same length\n",
    "\n",
    "data = {'Name': ['Tom', 'nick', 'krish', 'jack'],\n",
    "        'Age': [20,21,19,18]}\n",
    "df=pd.DataFrame(data)\n",
    "\n",
    "print(df)\n",
    "\n",
    "\n",
    "#With giving Lables\n",
    "data = {'Name': ['Tom', 'Jack', 'nick', 'juli'],\n",
    "        'marks': [99, 98, 95, 90]}\n",
    "\n",
    "# Creates pandas DataFrame.\n",
    "df = pd.DataFrame(data, index=['rank1',\n",
    "                               'rank2',\n",
    "                               'rank3',\n",
    "                               'rank4'])\n",
    "print(df)\n",
    "\n",
    "\n",
    "# list of name, degree, score\n",
    "nme = [\"aparna\", \"pankaj\", \"sudhir\", \"Geeku\"]\n",
    "deg = [\"MBA\", \"BCA\", \"M.Tech\", \"MBA\"]\n",
    "scr = [90, 40, 80, 98]\n",
    " \n",
    "# dictionary of lists \n",
    "dict = {'name': nme, 'degree': deg, 'score': scr} \n",
    "   \n",
    "df = pd.DataFrame(dict)\n",
    "   \n",
    "print(df) \n"
   ]
  },
  {
   "cell_type": "code",
   "execution_count": 12,
   "id": "34f12480-2383-42c9-a184-5c8c668ba276",
   "metadata": {},
   "outputs": [
    {
     "name": "stdout",
     "output_type": "stream",
     "text": [
      "    a   b   c\n",
      "0   1   2   3\n",
      "1  10  20  30\n",
      "         b   c     a\n",
      "first    2   3   NaN\n",
      "second  20  30  10.0\n"
     ]
    }
   ],
   "source": [
    "# Create DataFrame from List of DIctionaries\n",
    "data = [{'a':1, 'b':2, 'c':3},\n",
    "        {'a':10, 'b':20, 'c':30}]\n",
    "df=pd.DataFrame(data)\n",
    "\n",
    "print(df)\n",
    "\n",
    "# List of Dictionaries and row indecies\n",
    "\n",
    "data = [{'b':2, 'c':3},\n",
    "        {'a':10, 'b':20, 'c':30}]\n",
    "df=pd.DataFrame(data,index=['first','second'])\n",
    "\n",
    "print(df)\n"
   ]
  },
  {
   "cell_type": "code",
   "execution_count": 13,
   "id": "6e13896e-c2d9-4049-b1c0-da51bd09deb5",
   "metadata": {},
   "outputs": [
    {
     "name": "stdout",
     "output_type": "stream",
     "text": [
      "   one  two\n",
      "a   10   10\n",
      "b   20   20\n",
      "c   30   30\n",
      "d   40   40\n"
     ]
    }
   ],
   "source": [
    "# Create DataFrame from a dictionary of Series\n",
    "d = {'one':pd.Series([10,20,30,40],index=['a','b','c','d']),\n",
    "     'two':pd.Series([10,20,30,40],index=['a','b','c','d'])}\n",
    "df=pd.DataFrame(d)\n",
    "print(df)"
   ]
  },
  {
   "cell_type": "code",
   "execution_count": 22,
   "id": "9eca9fea-b8cd-4931-a90a-0596c188523b",
   "metadata": {},
   "outputs": [
    {
     "name": "stdout",
     "output_type": "stream",
     "text": [
      "[('tom', 25), ('krish', 30), ('nick', 26), ('juli', 22)]\n",
      "    Name  Age\n",
      "0    tom   25\n",
      "1  krish   30\n",
      "2   nick   26\n",
      "3   juli   22\n",
      "     Name   val\n",
      "0   Geeks  11.0\n",
      "1     For  22.0\n",
      "2   Geeks  33.0\n",
      "3      is  44.0\n",
      "4  portal  55.0\n",
      "5     for  66.0\n",
      "6   Geeks  77.0\n"
     ]
    }
   ],
   "source": [
    "# Create DataFrame using zip()\n",
    "\n",
    "Name=['tom','krish','nick','juli']\n",
    "Age=[25,30,26,22]\n",
    "list_of_tuples = list(zip(Name,Age))\n",
    "print(list_of_tuples)\n",
    "df=pd.DataFrame(list_of_tuples,columns=['Name','Age'])\n",
    "print(df)\n",
    "\n",
    "\n",
    "# list of strings\n",
    "lst = ['Geeks', 'For', 'Geeks', 'is', 'portal', 'for', 'Geeks']\n",
    "\n",
    "# list of int\n",
    "lst2 = [11, 22, 33, 44, 55, 66, 77]\n",
    "\n",
    "# Calling DataFrame constructor after zipping\n",
    "# both lists, with columns specified\n",
    "df = pd.DataFrame(list(zip(lst, lst2)),\n",
    "               columns =['Name', 'val'])\n",
    "\n",
    "## Change Datatype, convert 'val' column to float\n",
    "\n",
    "df['val']=df['val'].astype(float)\n",
    "\n",
    "print(df)"
   ]
  },
  {
   "cell_type": "code",
   "execution_count": 39,
   "id": "61c6d2d4-dfad-4178-a7ed-bc47654ee24e",
   "metadata": {},
   "outputs": [
    {
     "name": "stdout",
     "output_type": "stream",
     "text": [
      "    Name  Age\n",
      "0    tom   25\n",
      "1  krish   30\n",
      "2   nick   26\n",
      "3   juli   22\n",
      "    Name  Age\n",
      "0    tom   25\n",
      "1  krish   30\n",
      "2   nick   26\n",
      "3   juli   22\n"
     ]
    }
   ],
   "source": [
    "# Create DataFrame using multi-dimensional list\n",
    "data = [['tom', 25], ['krish', 30],['nick', 26], ['juli', 22]]\n",
    "\n",
    "df=pd.DataFrame(data,columns=['Name','Age'])\n",
    "print(df)\n",
    "\n",
    "# Create Pandas Dataframe from 2D List using pd.DataFrame.from_records()\n",
    "columns = ['Name','Age']\n",
    "df=pd.DataFrame.from_records(data, columns=columns)\n",
    "print(df)\n",
    "\n",
    "# Creating DataFrame using pd.DataFrame.from_dict()\n",
    "# df = pd.DataFrame.from_dict(dict(zip(columns, zip(*data))))\n",
    "# print(df)"
   ]
  },
  {
   "cell_type": "code",
   "execution_count": 28,
   "id": "d676ada7-0da5-4604-a985-38cfb3300d4c",
   "metadata": {},
   "outputs": [
    {
     "name": "stdout",
     "output_type": "stream",
     "text": [
      "[['tom' 25]\n",
      " ['krish' 30]\n",
      " ['nick' 26]\n",
      " ['juli' 22]]\n",
      "[['tom', 25], ['krish', 30], ['nick', 26], ['juli', 22]]\n"
     ]
    }
   ],
   "source": [
    "# convert DataFrame to list\n",
    "\n",
    "print(df.values)\n",
    "my_list = df.values.tolist()\n",
    "print(my_list)\n"
   ]
  },
  {
   "cell_type": "code",
   "execution_count": 32,
   "id": "dd23213c-f637-411d-bbc8-56d0b1bef467",
   "metadata": {},
   "outputs": [
    {
     "name": "stdout",
     "output_type": "stream",
     "text": [
      "   A  B\n",
      "0  1  3\n",
      "1  2  4\n",
      "   A  B\n",
      "0  5  7\n",
      "1  6  8\n",
      "   A  B\n",
      "0  1  3\n",
      "1  2  4\n",
      "2  5  7\n",
      "3  6  8\n"
     ]
    }
   ],
   "source": [
    "# concatenate multiple DataFrames row-wise\n",
    "df1 = pd.DataFrame({'A': [1, 2], 'B': [3, 4]})\n",
    "df2 = pd.DataFrame({'A': [5, 6], 'B': [7, 8]})\n",
    "print(df1)\n",
    "print(df2)\n",
    "df_combined=pd.concat([df1,df2],ignore_index=True)\n",
    "print(df_combined)"
   ]
  },
  {
   "cell_type": "code",
   "execution_count": 43,
   "id": "5d795732-29cc-4e5e-9255-567867b97c8b",
   "metadata": {},
   "outputs": [
    {
     "name": "stdout",
     "output_type": "stream",
     "text": [
      "    Name   Age      Occupation\n",
      "0  Geek1  28.0        Engineer\n",
      "1  Geek2   NaN  Data Scientist\n",
      "2  Geek3  32.0             NaN\n"
     ]
    }
   ],
   "source": [
    "# Handling Missing Values\n",
    "import numpy as np\n",
    " \n",
    "# Creating a DataFrame with missing values from a list of lists\n",
    "data = [['Geek1', 28, 'Engineer'],\n",
    "        ['Geek2', None, 'Data Scientist'],\n",
    "        ['Geek3', 32, None]]\n",
    " \n",
    "columns = ['Name', 'Age', 'Occupation']\n",
    " \n",
    "df = pd.DataFrame(data, columns=columns)\n",
    "df = df.replace({None: np.nan})  # Replacing None with NaN for missing values\n",
    "print(df)"
   ]
  },
  {
   "cell_type": "code",
   "execution_count": 58,
   "id": "d3a5344f-96fe-4753-9ebf-5ad94e06e781",
   "metadata": {},
   "outputs": [
    {
     "name": "stdout",
     "output_type": "stream",
     "text": [
      "    Name  Age      Occupation\n",
      "0  Geek1   28        Engineer\n",
      "1  Geek2   25  Data Scientist\n",
      "2  Geek3   32         Manager\n",
      "3  Geek3  32a         Manager \n",
      "\n",
      "<class 'pandas.core.frame.DataFrame'>\n",
      "RangeIndex: 4 entries, 0 to 3\n",
      "Data columns (total 3 columns):\n",
      " #   Column      Non-Null Count  Dtype \n",
      "---  ------      --------------  ----- \n",
      " 0   Name        4 non-null      object\n",
      " 1   Age         4 non-null      object\n",
      " 2   Occupation  4 non-null      object\n",
      "dtypes: object(3)\n",
      "memory usage: 228.0+ bytes\n",
      "<class 'pandas.core.frame.DataFrame'>\n",
      "RangeIndex: 4 entries, 0 to 3\n",
      "Data columns (total 3 columns):\n",
      " #   Column      Non-Null Count  Dtype  \n",
      "---  ------      --------------  -----  \n",
      " 0   Name        4 non-null      object \n",
      " 1   Age         3 non-null      float64\n",
      " 2   Occupation  4 non-null      object \n",
      "dtypes: float64(1), object(2)\n",
      "memory usage: 228.0+ bytes\n",
      "    Name   Age      Occupation\n",
      "0  Geek1  28.0        Engineer\n",
      "1  Geek2  25.0  Data Scientist\n",
      "2  Geek3  32.0         Manager\n",
      "3  Geek3   NaN         Manager\n"
     ]
    }
   ],
   "source": [
    "# Creating a DataFrame with different data types from a list of lists\n",
    "data = [['Geek1', 28, 'Engineer'],\n",
    "        ['Geek2', 25, 'Data Scientist'],\n",
    "        ['Geek3', '32', 'Manager'],  # Age represented as a string\n",
    "        ['Geek3', '32a', 'Manager']]  # Age represented as a string\n",
    "\n",
    "columns=['Name','Age','Occupation']\n",
    "\n",
    "df=pd.DataFrame(data,columns=columns)\n",
    "print(df,\"\\n\")\n",
    "df.info()\n",
    "# df['Age']=pd.to_numeric(df['Age'])\n",
    "df['Age']=pd.to_numeric(df['Age'],errors='coerce')  # in case of invalid values it will convert to NaN\n",
    "df.info()\n",
    "print(df)\n"
   ]
  },
  {
   "cell_type": "code",
   "execution_count": 59,
   "id": "abce5b38-79c5-481c-897b-807df47abe25",
   "metadata": {},
   "outputs": [
    {
     "name": "stdout",
     "output_type": "stream",
     "text": [
      "   Col_1  Col_2           Col_3\n",
      "0  Geek1   28.0        Engineer\n",
      "1  Geek2   25.0  Data Scientist\n",
      "2  Geek3   32.0         Manager\n",
      "3  Geek3    NaN         Manager \n",
      "\n",
      "              0               1        2        3\n",
      "Col_1     Geek1           Geek2    Geek3    Geek3\n",
      "Col_2      28.0            25.0     32.0      NaN\n",
      "Col_3  Engineer  Data Scientist  Manager  Manager\n"
     ]
    }
   ],
   "source": [
    "# Defining column names using Dataframe.columns() function\n",
    "df.columns = ['Col_1', 'Col_2', 'Col_3']\n",
    "print(df,\"\\n\")\n",
    "\n",
    "# transpose of dataframe\n",
    "df=df.transpose()\n",
    "print(df)"
   ]
  },
  {
   "cell_type": "markdown",
   "id": "6ff9b4a8-23ae-4a24-bdca-22e9a5642836",
   "metadata": {},
   "source": [
    "day1 end: \n",
    "next day start point: \n",
    "https://www.geeksforgeeks.org/creating-a-pandas-dataframe-using-list-of-tuples/?ref=lbp"
   ]
  }
 ],
 "metadata": {
  "kernelspec": {
   "display_name": "Python 3 (ipykernel)",
   "language": "python",
   "name": "python3"
  },
  "language_info": {
   "codemirror_mode": {
    "name": "ipython",
    "version": 3
   },
   "file_extension": ".py",
   "mimetype": "text/x-python",
   "name": "python",
   "nbconvert_exporter": "python",
   "pygments_lexer": "ipython3",
   "version": "3.12.4"
  }
 },
 "nbformat": 4,
 "nbformat_minor": 5
}
