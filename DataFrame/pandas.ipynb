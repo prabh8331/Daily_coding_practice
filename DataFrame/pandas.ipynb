{
 "cells": [
  {
   "cell_type": "markdown",
   "id": "2cd77547-fbf5-4974-a8af-24f2b385ade9",
   "metadata": {},
   "source": [
    "### Pandas Practice geaksforgeaks\n",
    "https://www.geeksforgeeks.org/pandas-practice-excercises-questions-and-solutions/?ref=lbp"
   ]
  },
  {
   "cell_type": "markdown",
   "id": "b9f10f6c-c85a-471a-bda3-6d8235b5e28e",
   "metadata": {},
   "source": [
    "### Different way to create Dataframe\n"
   ]
  },
  {
   "cell_type": "code",
   "execution_count": 2,
   "id": "f0b698b3-85a0-4d82-aeb0-25b6806cf1a6",
   "metadata": {},
   "outputs": [
    {
     "name": "stdout",
     "output_type": "stream",
     "text": [
      "Collecting pandas\n",
      "  Downloading pandas-2.2.3-cp312-cp312-manylinux_2_17_x86_64.manylinux2014_x86_64.whl.metadata (89 kB)\n",
      "Collecting numpy>=1.26.0 (from pandas)\n",
      "  Downloading numpy-2.1.2-cp312-cp312-manylinux_2_17_x86_64.manylinux2014_x86_64.whl.metadata (60 kB)\n",
      "Requirement already satisfied: python-dateutil>=2.8.2 in /opt/conda/lib/python3.12/site-packages (from pandas) (2.9.0.post0)\n",
      "Requirement already satisfied: pytz>=2020.1 in /opt/conda/lib/python3.12/site-packages (from pandas) (2024.1)\n",
      "Collecting tzdata>=2022.7 (from pandas)\n",
      "  Downloading tzdata-2024.2-py2.py3-none-any.whl.metadata (1.4 kB)\n",
      "Requirement already satisfied: six>=1.5 in /opt/conda/lib/python3.12/site-packages (from python-dateutil>=2.8.2->pandas) (1.16.0)\n",
      "Downloading pandas-2.2.3-cp312-cp312-manylinux_2_17_x86_64.manylinux2014_x86_64.whl (12.7 MB)\n",
      "\u001b[2K   \u001b[90m━━━━━━━━━━━━━━━━━━━━━━━━━━━━━━━━━━━━━━━━\u001b[0m \u001b[32m12.7/12.7 MB\u001b[0m \u001b[31m2.5 MB/s\u001b[0m eta \u001b[36m0:00:00\u001b[0m00:01\u001b[0m00:01\u001b[0m\n",
      "\u001b[?25hDownloading numpy-2.1.2-cp312-cp312-manylinux_2_17_x86_64.manylinux2014_x86_64.whl (16.0 MB)\n",
      "\u001b[2K   \u001b[90m━━━━━━━━━━━━━━━━━━━━━━━━━━━━━━━━━━━━━━━━\u001b[0m \u001b[32m16.0/16.0 MB\u001b[0m \u001b[31m2.7 MB/s\u001b[0m eta \u001b[36m0:00:00\u001b[0m00:01\u001b[0m00:01\u001b[0m\n",
      "\u001b[?25hDownloading tzdata-2024.2-py2.py3-none-any.whl (346 kB)\n",
      "Installing collected packages: tzdata, numpy, pandas\n",
      "Successfully installed numpy-2.1.2 pandas-2.2.3 tzdata-2024.2\n",
      "\u001b[33mWARNING: Running pip as the 'root' user can result in broken permissions and conflicting behaviour with the system package manager, possibly rendering your system unusable.It is recommended to use a virtual environment instead: https://pip.pypa.io/warnings/venv. Use the --root-user-action option if you know what you are doing and want to suppress this warning.\u001b[0m\u001b[33m\n",
      "\u001b[0m"
     ]
    }
   ],
   "source": [
    "!pip3 install pandas"
   ]
  },
  {
   "cell_type": "code",
   "execution_count": 5,
   "id": "58e023b3-0fca-415c-b2cd-f86c55341785",
   "metadata": {},
   "outputs": [
    {
     "name": "stdout",
     "output_type": "stream",
     "text": [
      "Empty DataFrame\n",
      "Columns: []\n",
      "Index: []\n"
     ]
    }
   ],
   "source": [
    "# Syntax\n",
    "# pandas.DataFrame(data,index,columns)\n",
    "import pandas as pd\n",
    "\n",
    "# Create empty dataframe\n",
    "df = pd.DataFrame()\n",
    "\n",
    "print(df)"
   ]
  },
  {
   "cell_type": "code",
   "execution_count": 6,
   "id": "e282cb57-d58f-4c1c-918b-027592e731e2",
   "metadata": {},
   "outputs": [
    {
     "name": "stdout",
     "output_type": "stream",
     "text": [
      "   Name  Age\n",
      "0   tom   10\n",
      "1  nick   15\n",
      "2  juli   14\n"
     ]
    }
   ],
   "source": [
    "# Create DataFrame from lists of lists\n",
    "\n",
    "data = [['tom',10], ['nick',15], ['juli',14]]\n",
    "\n",
    "df=pd.DataFrame(data, columns=['Name','Age'])\n",
    "\n",
    "print(df)"
   ]
  },
  {
   "cell_type": "code",
   "execution_count": 7,
   "id": "c4b5c873-8577-4f32-9d51-a7c5a713f019",
   "metadata": {},
   "outputs": [
    {
     "name": "stdout",
     "output_type": "stream",
     "text": [
      "    Name  Age\n",
      "0    Tom   20\n",
      "1   nick   21\n",
      "2  krish   19\n",
      "3   jack   18\n",
      "       Name  marks\n",
      "rank1   Tom     99\n",
      "rank2  Jack     98\n",
      "rank3  nick     95\n",
      "rank4  juli     90\n",
      "     name  degree  score\n",
      "0  aparna     MBA     90\n",
      "1  pankaj     BCA     40\n",
      "2  sudhir  M.Tech     80\n",
      "3   Geeku     MBA     98\n"
     ]
    }
   ],
   "source": [
    "# Create DataFrame from Dictionary of  ndArray/Lists\n",
    "# all the arrays must be of the same length\n",
    "\n",
    "data = {'Name': ['Tom', 'nick', 'krish', 'jack'],\n",
    "        'Age': [20,21,19,18]}\n",
    "df=pd.DataFrame(data)\n",
    "\n",
    "print(df)\n",
    "\n",
    "\n",
    "#With giving Lables\n",
    "data = {'Name': ['Tom', 'Jack', 'nick', 'juli'],\n",
    "        'marks': [99, 98, 95, 90]}\n",
    "\n",
    "# Creates pandas DataFrame.\n",
    "df = pd.DataFrame(data, index=['rank1',\n",
    "                               'rank2',\n",
    "                               'rank3',\n",
    "                               'rank4'])\n",
    "print(df)\n",
    "\n",
    "\n",
    "# list of name, degree, score\n",
    "nme = [\"aparna\", \"pankaj\", \"sudhir\", \"Geeku\"]\n",
    "deg = [\"MBA\", \"BCA\", \"M.Tech\", \"MBA\"]\n",
    "scr = [90, 40, 80, 98]\n",
    " \n",
    "# dictionary of lists \n",
    "dict = {'name': nme, 'degree': deg, 'score': scr} \n",
    "   \n",
    "df = pd.DataFrame(dict)\n",
    "   \n",
    "print(df) \n"
   ]
  },
  {
   "cell_type": "code",
   "execution_count": 8,
   "id": "34f12480-2383-42c9-a184-5c8c668ba276",
   "metadata": {},
   "outputs": [
    {
     "name": "stdout",
     "output_type": "stream",
     "text": [
      "    a   b   c\n",
      "0   1   2   3\n",
      "1  10  20  30\n",
      "         b   c     a\n",
      "first    2   3   NaN\n",
      "second  20  30  10.0\n"
     ]
    }
   ],
   "source": [
    "# Create DataFrame from List of DIctionaries\n",
    "data = [{'a':1, 'b':2, 'c':3},\n",
    "        {'a':10, 'b':20, 'c':30}]\n",
    "df=pd.DataFrame(data)\n",
    "\n",
    "print(df)\n",
    "\n",
    "# List of Dictionaries and row indecies\n",
    "\n",
    "data = [{'b':2, 'c':3},\n",
    "        {'a':10, 'b':20, 'c':30}]\n",
    "df=pd.DataFrame(data,index=['first','second'])\n",
    "\n",
    "print(df)\n"
   ]
  },
  {
   "cell_type": "code",
   "execution_count": 13,
   "id": "6e13896e-c2d9-4049-b1c0-da51bd09deb5",
   "metadata": {},
   "outputs": [
    {
     "name": "stdout",
     "output_type": "stream",
     "text": [
      "   one  two\n",
      "a   10   10\n",
      "b   20   20\n",
      "c   30   30\n",
      "d   40   40\n"
     ]
    }
   ],
   "source": [
    "# Create DataFrame from a dictionary of Series\n",
    "d = {'one':pd.Series([10,20,30,40],index=['a','b','c','d']),\n",
    "     'two':pd.Series([10,20,30,40],index=['a','b','c','d'])}\n",
    "df=pd.DataFrame(d)\n",
    "print(df)"
   ]
  },
  {
   "cell_type": "code",
   "execution_count": 22,
   "id": "9eca9fea-b8cd-4931-a90a-0596c188523b",
   "metadata": {},
   "outputs": [
    {
     "name": "stdout",
     "output_type": "stream",
     "text": [
      "[('tom', 25), ('krish', 30), ('nick', 26), ('juli', 22)]\n",
      "    Name  Age\n",
      "0    tom   25\n",
      "1  krish   30\n",
      "2   nick   26\n",
      "3   juli   22\n",
      "     Name   val\n",
      "0   Geeks  11.0\n",
      "1     For  22.0\n",
      "2   Geeks  33.0\n",
      "3      is  44.0\n",
      "4  portal  55.0\n",
      "5     for  66.0\n",
      "6   Geeks  77.0\n"
     ]
    }
   ],
   "source": [
    "# Create DataFrame using zip()\n",
    "\n",
    "Name=['tom','krish','nick','juli']\n",
    "Age=[25,30,26,22]\n",
    "list_of_tuples = list(zip(Name,Age))\n",
    "print(list_of_tuples)\n",
    "df=pd.DataFrame(list_of_tuples,columns=['Name','Age'])\n",
    "print(df)\n",
    "\n",
    "\n",
    "# list of strings\n",
    "lst = ['Geeks', 'For', 'Geeks', 'is', 'portal', 'for', 'Geeks']\n",
    "\n",
    "# list of int\n",
    "lst2 = [11, 22, 33, 44, 55, 66, 77]\n",
    "\n",
    "# Calling DataFrame constructor after zipping\n",
    "# both lists, with columns specified\n",
    "df = pd.DataFrame(list(zip(lst, lst2)),\n",
    "               columns =['Name', 'val'])\n",
    "\n",
    "## Change Datatype, convert 'val' column to float\n",
    "\n",
    "df['val']=df['val'].astype(float)\n",
    "\n",
    "print(df)"
   ]
  },
  {
   "cell_type": "code",
   "execution_count": 39,
   "id": "61c6d2d4-dfad-4178-a7ed-bc47654ee24e",
   "metadata": {},
   "outputs": [
    {
     "name": "stdout",
     "output_type": "stream",
     "text": [
      "    Name  Age\n",
      "0    tom   25\n",
      "1  krish   30\n",
      "2   nick   26\n",
      "3   juli   22\n",
      "    Name  Age\n",
      "0    tom   25\n",
      "1  krish   30\n",
      "2   nick   26\n",
      "3   juli   22\n"
     ]
    }
   ],
   "source": [
    "# Create DataFrame using multi-dimensional list\n",
    "data = [['tom', 25], ['krish', 30],['nick', 26], ['juli', 22]]\n",
    "\n",
    "df=pd.DataFrame(data,columns=['Name','Age'])\n",
    "print(df)\n",
    "\n",
    "# Create Pandas Dataframe from 2D List using pd.DataFrame.from_records()\n",
    "columns = ['Name','Age']\n",
    "df=pd.DataFrame.from_records(data, columns=columns)\n",
    "print(df)\n",
    "\n",
    "# Creating DataFrame using pd.DataFrame.from_dict()\n",
    "# df = pd.DataFrame.from_dict(dict(zip(columns, zip(*data))))\n",
    "# print(df)"
   ]
  },
  {
   "cell_type": "code",
   "execution_count": 28,
   "id": "d676ada7-0da5-4604-a985-38cfb3300d4c",
   "metadata": {},
   "outputs": [
    {
     "name": "stdout",
     "output_type": "stream",
     "text": [
      "[['tom' 25]\n",
      " ['krish' 30]\n",
      " ['nick' 26]\n",
      " ['juli' 22]]\n",
      "[['tom', 25], ['krish', 30], ['nick', 26], ['juli', 22]]\n"
     ]
    }
   ],
   "source": [
    "# convert DataFrame to list\n",
    "\n",
    "print(df.values)\n",
    "my_list = df.values.tolist()\n",
    "print(my_list)\n"
   ]
  },
  {
   "cell_type": "code",
   "execution_count": 32,
   "id": "dd23213c-f637-411d-bbc8-56d0b1bef467",
   "metadata": {},
   "outputs": [
    {
     "name": "stdout",
     "output_type": "stream",
     "text": [
      "   A  B\n",
      "0  1  3\n",
      "1  2  4\n",
      "   A  B\n",
      "0  5  7\n",
      "1  6  8\n",
      "   A  B\n",
      "0  1  3\n",
      "1  2  4\n",
      "2  5  7\n",
      "3  6  8\n"
     ]
    }
   ],
   "source": [
    "# concatenate multiple DataFrames row-wise\n",
    "df1 = pd.DataFrame({'A': [1, 2], 'B': [3, 4]})\n",
    "df2 = pd.DataFrame({'A': [5, 6], 'B': [7, 8]})\n",
    "print(df1)\n",
    "print(df2)\n",
    "df_combined=pd.concat([df1,df2],ignore_index=True)\n",
    "print(df_combined)"
   ]
  },
  {
   "cell_type": "code",
   "execution_count": 43,
   "id": "5d795732-29cc-4e5e-9255-567867b97c8b",
   "metadata": {},
   "outputs": [
    {
     "name": "stdout",
     "output_type": "stream",
     "text": [
      "    Name   Age      Occupation\n",
      "0  Geek1  28.0        Engineer\n",
      "1  Geek2   NaN  Data Scientist\n",
      "2  Geek3  32.0             NaN\n"
     ]
    }
   ],
   "source": [
    "# Handling Missing Values\n",
    "import numpy as np\n",
    " \n",
    "# Creating a DataFrame with missing values from a list of lists\n",
    "data = [['Geek1', 28, 'Engineer'],\n",
    "        ['Geek2', None, 'Data Scientist'],\n",
    "        ['Geek3', 32, None]]\n",
    " \n",
    "columns = ['Name', 'Age', 'Occupation']\n",
    " \n",
    "df = pd.DataFrame(data, columns=columns)\n",
    "df = df.replace({None: np.nan})  # Replacing None with NaN for missing values\n",
    "print(df)"
   ]
  },
  {
   "cell_type": "code",
   "execution_count": 58,
   "id": "d3a5344f-96fe-4753-9ebf-5ad94e06e781",
   "metadata": {},
   "outputs": [
    {
     "name": "stdout",
     "output_type": "stream",
     "text": [
      "    Name  Age      Occupation\n",
      "0  Geek1   28        Engineer\n",
      "1  Geek2   25  Data Scientist\n",
      "2  Geek3   32         Manager\n",
      "3  Geek3  32a         Manager \n",
      "\n",
      "<class 'pandas.core.frame.DataFrame'>\n",
      "RangeIndex: 4 entries, 0 to 3\n",
      "Data columns (total 3 columns):\n",
      " #   Column      Non-Null Count  Dtype \n",
      "---  ------      --------------  ----- \n",
      " 0   Name        4 non-null      object\n",
      " 1   Age         4 non-null      object\n",
      " 2   Occupation  4 non-null      object\n",
      "dtypes: object(3)\n",
      "memory usage: 228.0+ bytes\n",
      "<class 'pandas.core.frame.DataFrame'>\n",
      "RangeIndex: 4 entries, 0 to 3\n",
      "Data columns (total 3 columns):\n",
      " #   Column      Non-Null Count  Dtype  \n",
      "---  ------      --------------  -----  \n",
      " 0   Name        4 non-null      object \n",
      " 1   Age         3 non-null      float64\n",
      " 2   Occupation  4 non-null      object \n",
      "dtypes: float64(1), object(2)\n",
      "memory usage: 228.0+ bytes\n",
      "    Name   Age      Occupation\n",
      "0  Geek1  28.0        Engineer\n",
      "1  Geek2  25.0  Data Scientist\n",
      "2  Geek3  32.0         Manager\n",
      "3  Geek3   NaN         Manager\n"
     ]
    }
   ],
   "source": [
    "# Creating a DataFrame with different data types from a list of lists\n",
    "data = [['Geek1', 28, 'Engineer'],\n",
    "        ['Geek2', 25, 'Data Scientist'],\n",
    "        ['Geek3', '32', 'Manager'],  # Age represented as a string\n",
    "        ['Geek3', '32a', 'Manager']]  # Age represented as a string\n",
    "\n",
    "columns=['Name','Age','Occupation']\n",
    "\n",
    "df=pd.DataFrame(data,columns=columns)\n",
    "print(df,\"\\n\")\n",
    "df.info()\n",
    "# df['Age']=pd.to_numeric(df['Age'])\n",
    "df['Age']=pd.to_numeric(df['Age'],errors='coerce')  # in case of invalid values it will convert to NaN\n",
    "df.info()\n",
    "print(df)\n"
   ]
  },
  {
   "cell_type": "code",
   "execution_count": 59,
   "id": "abce5b38-79c5-481c-897b-807df47abe25",
   "metadata": {},
   "outputs": [
    {
     "name": "stdout",
     "output_type": "stream",
     "text": [
      "   Col_1  Col_2           Col_3\n",
      "0  Geek1   28.0        Engineer\n",
      "1  Geek2   25.0  Data Scientist\n",
      "2  Geek3   32.0         Manager\n",
      "3  Geek3    NaN         Manager \n",
      "\n",
      "              0               1        2        3\n",
      "Col_1     Geek1           Geek2    Geek3    Geek3\n",
      "Col_2      28.0            25.0     32.0      NaN\n",
      "Col_3  Engineer  Data Scientist  Manager  Manager\n"
     ]
    }
   ],
   "source": [
    "# Defining column names using Dataframe.columns() function\n",
    "df.columns = ['Col_1', 'Col_2', 'Col_3']\n",
    "print(df,\"\\n\")\n",
    "\n",
    "# transpose of dataframe\n",
    "df=df.transpose()\n",
    "print(df)"
   ]
  },
  {
   "cell_type": "markdown",
   "id": "6ff9b4a8-23ae-4a24-bdca-22e9a5642836",
   "metadata": {},
   "source": [
    "day1 end: \n",
    "next day start point: \n",
    "https://www.geeksforgeeks.org/creating-a-pandas-dataframe-using-list-of-tuples/?ref=lbp"
   ]
  },
  {
   "cell_type": "code",
   "execution_count": 16,
   "id": "46718791-394c-49c1-842a-18517cc3a867",
   "metadata": {},
   "outputs": [
    {
     "name": "stdout",
     "output_type": "stream",
     "text": [
      "     Name  Age  Score\n",
      "0   Peter   18      7\n",
      "1    Riff   15      6\n",
      "2    John   17      8\n",
      "3  Michel   18      7\n",
      "4   Sheli   17      5\n",
      "     Name  Age  Score\n",
      "0   Peter   18      7\n",
      "1    Riff   15      6\n",
      "2    John   17      8\n",
      "3  Michel   18      7\n",
      "4   Sheli   17      5\n",
      "Score      5     6     7     8\n",
      "Name                          \n",
      "John     NaN   NaN   NaN  17.0\n",
      "Michel   NaN   NaN  18.0   NaN\n",
      "Peter    NaN   NaN  18.0   NaN\n",
      "Riff     NaN  15.0   NaN   NaN\n",
      "Sheli   17.0   NaN   NaN   NaN\n"
     ]
    }
   ],
   "source": [
    "## Creating a Pandas datafre\n",
    "# data in the form of list of tuples\n",
    "\n",
    "data = [('Peter', 18, 7),\n",
    "        ('Riff', 15, 6),\n",
    "        ('John', 17, 8),\n",
    "        ('Michel', 18, 7),\n",
    "        ('Sheli', 17, 5) ]\n",
    "\n",
    "df = pd.DataFrame(data,columns=[\"Name\",\"Age\",\"Score\"])\n",
    "\n",
    "print(df)\n",
    "\n",
    "\n",
    "#Using from_records(),\n",
    "# faster, especially with large datasets, since it is optimized for structured data (like a list of tuples, or dictionaries).\n",
    "\n",
    "df=pd.DataFrame.from_records(data, columns=[\"Name\",\"Age\",\"Score\"])\n",
    "\n",
    "print(df)\n",
    "\n",
    "\n",
    "# Using pivot table\n",
    "\n",
    "a = df.pivot(index=\"Name\", columns=\"Score\", values=\"Age\")\n",
    "print(a)"
   ]
  },
  {
   "cell_type": "code",
   "execution_count": 35,
   "id": "96c68448-edfe-45dd-8ebc-ac6830eb3523",
   "metadata": {},
   "outputs": [
    {
     "name": "stdout",
     "output_type": "stream",
     "text": [
      "       Geeks    For geeks\n",
      "1  dataframe  using  list\n",
      "2         10     20    30\n",
      "       Geeks    For geeks\n",
      "0  dataframe  using  list\n",
      "1         10     20    30\n",
      "       Geeks    For geeks\n",
      "0  dataframe  using  list\n",
      "1         10     20    30\n",
      "       Geeks    For geeks   Portal\n",
      "0  dataframe  using  list  10000.0\n",
      "1         10     20    30      NaN\n",
      "       Geeks    For\n",
      "1  dataframe  using\n",
      "2         10     20\n",
      "       Geeks    For geeks   Portal\n",
      "1  dataframe  using  list  10000.0\n",
      "2         10     20    30      NaN\n"
     ]
    }
   ],
   "source": [
    "# Create a Pandas DataFrame from List of Dicts \n",
    "\n",
    "# List of Dicts\n",
    "data = [{'Geeks': 'dataframe', 'For': 'using', 'geeks': 'list'}, \n",
    "        {'Geeks':10, 'For': 20, 'geeks': 30}] \n",
    "\n",
    "# using from_records()\n",
    "\n",
    "df=pd.DataFrame.from_records(data,index=['1','2'])\n",
    "print(df)\n",
    "\n",
    "\n",
    "# using from_dict\n",
    "\n",
    "df=pd.DataFrame.from_dict(data)\n",
    "print(df)\n",
    "\n",
    "# using json_normalize()\n",
    "df=pd.json_normalize(data)\n",
    "print(df)\n",
    "\n",
    "# Using pd.DataFrame\n",
    "# Pandas DataFrame by lists of dicts without matching key-value pair \n",
    "data = [{'Geeks': 'dataframe', 'For': 'using', 'geeks': 'list', 'Portal': 10000}, \n",
    "        {'Geeks':10, 'For': 20, 'geeks': 30}]  \n",
    "\n",
    "df=pd.DataFrame(data)\n",
    "df1=pd.DataFrame(data,index=[\"1\",\"2\"],columns=[\"Geeks\",\"For\"])\n",
    "df2=pd.DataFrame(data,index=[\"1\",\"2\"])\n",
    "\n",
    "print(df)\n",
    "print(df1)\n",
    "print(df2)"
   ]
  },
  {
   "cell_type": "code",
   "execution_count": 28,
   "id": "824e950a-c90e-4d34-8f56-bf68708297a7",
   "metadata": {},
   "outputs": [
    {
     "name": "stdout",
     "output_type": "stream",
     "text": [
      "   A  B\n",
      "0  1  4\n",
      "1  2  5\n",
      "2  3  6\n",
      "   0  1  2\n",
      "A  1  2  3\n",
      "B  4  5  6\n",
      "   0  1\n",
      "0  1  4\n",
      "1  2  5\n",
      "2  3  6\n",
      "   A  B\n",
      "0  1  4\n",
      "1  2  5\n",
      "2  3  6\n",
      "   A  B\n",
      "0  1  4\n",
      "1  2  5\n",
      "2  3  6\n",
      "   0  1  2\n",
      "A  1  2  3\n",
      "B  4  5  6\n",
      "   0  1\n",
      "0  1  4\n",
      "1  2  5\n",
      "2  3  6\n",
      "   A  B\n",
      "0  1  4\n",
      "1  2  5\n",
      "2  3  6\n"
     ]
    }
   ],
   "source": [
    "\n",
    "\n",
    "# difference b/w from_records and from_dict, \n",
    "# The key difference isn't necessarily in the output but in the efficiency and optimization\n",
    "\n",
    "# from_dict() is faster when dealing with columnar data (like dictionaries of lists), \n",
    "# as pandas can assign columns directly.\n",
    "# from_records() performs better when handling row-wise data, like lists of tuples or dictionaries, \n",
    "# as it can process each record efficiently and handle row-based operations seamlessly.\n",
    "\n",
    "\n",
    "# dictionary of list\n",
    "data1 = {\n",
    "    'A': [1, 2, 3],\n",
    "    'B': [4, 5, 6]\n",
    "}\n",
    "# Dictionary of dictionaries\n",
    "data2 = {\n",
    "    0: {'A': 1, 'B': 4},\n",
    "    1: {'A': 2, 'B': 5},\n",
    "    2: {'A': 3, 'B': 6}\n",
    "}\n",
    "\n",
    "# List of tuples\n",
    "data3 = [\n",
    "    (1, 4),\n",
    "    (2, 5),\n",
    "    (3, 6)\n",
    "]\n",
    "\n",
    "# List of dictionaries\n",
    "data4 = [\n",
    "    {'A': 1, 'B': 4},\n",
    "    {'A': 2, 'B': 5},\n",
    "    {'A': 3, 'B': 6}\n",
    "]\n",
    "\n",
    "df1=pd.DataFrame.from_dict(data1)\n",
    "df2=pd.DataFrame.from_dict(data2)\n",
    "df3=pd.DataFrame.from_dict(data3)\n",
    "df4=pd.DataFrame.from_dict(data4)\n",
    "print(df1)\n",
    "print(df2)\n",
    "print(df3)\n",
    "print(df4)\n",
    "\n",
    "\n",
    "df1=pd.DataFrame.from_records(data1)\n",
    "df2=pd.DataFrame.from_records(data2)\n",
    "df3=pd.DataFrame.from_records(data3)\n",
    "df4=pd.DataFrame.from_records(data4)\n",
    "print(df1)\n",
    "print(df2)\n",
    "print(df3)\n",
    "print(df4)\n",
    "\n"
   ]
  },
  {
   "cell_type": "markdown",
   "id": "40868817-4a79-4341-b9be-ad8604ed59f5",
   "metadata": {},
   "source": [
    "| Structure                     | Example                                   | Orientation  | Notes/Use Case                                                                                                                                              |\n",
    "|-------------------------------|-------------------------------------------|--------------|-------------------------------------------------------------------------------------------------------------------------------------------------------------|\n",
    "| **List of Dictionaries**       | `[{'A': 1, 'B': 4}, {'A': 2, 'B': 5}]`   | Row-oriented | **Use Case**: Common for row-wise data like JSON records or data fetched from APIs. Easy to update, but may have inconsistencies if some rows have missing keys. |\n",
    "| **List of Tuples**             | `[(1, 4), (2, 5), (3, 6)]`               | Row-oriented | **Use Case**: Often used for data returned from databases (e.g., SQL query results). Immutable tuples ensure the data remains unchanged once initialized.          |\n",
    "| **Dictionary of Lists/Arrays** | `{'A': [1, 2, 3], 'B': [4, 5, 6]}`       | Columnar     | **Use Case**: Ideal for structured columnar data (e.g., data from CSV or Excel). Efficient for data manipulation where column-wise operations are needed.         |\n",
    "| **Dictionary of Dictionaries** | `{0: {'A': 1, 'B': 4}, 1: {'A': 2}}`     | Row-oriented | **Use Case**: Useful when row indices are important or explicitly referenced (e.g., with unique IDs or timestamps). May require more processing for missing data.   |\n",
    "| **List of Lists**              | `[[1, 4], [2, 5], [3, 6]]`               | Row-oriented | **Use Case**: Basic structure for simple row-wise data (e.g., unstructured CSVs without headers). Requires separate column names to make sense of the data.         |\n",
    "| **Dictionary of Tuples**       | `{'A': (1, 2, 3), 'B': (4, 5, 6)}`       | Columnar     | **Use Case**: Rarely used, but tuples are immutable, so this structure is useful when data should not be modified after initialization.                           |\n",
    "| **Dictionary of Series**       | `{'A': pd.Series([1, 2]), 'B': ...}`     | Columnar     | **Use Case**: Common in pandas for building DataFrames from individual columns. Efficient for handling and manipulating large datasets column by column.            |\n",
    "\n",
    "### Key Considerations:\n",
    "- **Row-oriented** structures are often easier to manipulate for operations like appending new records (rows).\n",
    "- **Columnar** structures are more efficient for **column-wise** operations, such as aggregations or filtering based on a column.\n",
    "- The **List of Dictionaries** is flexible but can lead to inconsistencies (e.g., some dictionaries may lack certain keys).\n",
    "- The **List of Tuples** and **Dictionary of Tuples** are useful when immutability is important.\n",
    "- **Dictionary of Series** is highly optimized for data analysis in pandas, especially when handling large datasets with multiple operations on specific columns.\n"
   ]
  },
  {
   "cell_type": "code",
   "execution_count": 46,
   "id": "fac3e6e1-0a7c-4f86-8944-e765360bbbad",
   "metadata": {},
   "outputs": [
    {
     "name": "stdout",
     "output_type": "stream",
     "text": [
      "         Country        Capital   Population\n",
      "1  New Country 1  New Capital 1  123,456,789\n",
      "2  New Country 2  New Capital 2  987,654,321\n",
      "3  New Country 3  New Capital 3  111,222,333\n",
      "[{'Exam': 90, 'Grade': 'a', 'Name': 'Paras Jain'}, {'Exam': 99, 'Grade': 'b', 'Name': 'Paras Jain'}, {'Exam': 97, 'Grade': 'c', 'Name': 'Paras Jain'}, {'Exam': 89, 'Grade': 'a', 'Name': 'Chunky Pandey'}, {'Exam': 80, 'Grade': 'b', 'Name': 'Chunky Pandey'}]\n",
      "   Exam Grade           Name\n",
      "0    90     a     Paras Jain\n",
      "1    99     b     Paras Jain\n",
      "2    97     c     Paras Jain\n",
      "3    89     a  Chunky Pandey\n",
      "4    80     b  Chunky Pandey\n",
      "            Name  Maths  Phsics  Chemistry\n",
      "0  Chunky Pandey   89.0    80.0        NaN\n",
      "1     Paras Jain   90.0    99.0       97.0\n"
     ]
    }
   ],
   "source": [
    "# Nested dictionary into Pandas dataframe\n",
    "\n",
    "# Dictionary of Dictionaries (nested dictinaries)\n",
    "countries = {\n",
    "    \"1\": {\"Country\": \"New Country 1\",\n",
    "          \"Capital\": \"New Capital 1\",\n",
    "          \"Population\": \"123,456,789\"},\n",
    "    \"2\": {\"Country\": \"New Country 2\",\n",
    "          \"Capital\": \"New Capital 2\",\n",
    "          \"Population\": \"987,654,321\"},\n",
    "    \"3\": {\"Country\": \"New Country 3\",\n",
    "          \"Capital\": \"New Capital 3\",\n",
    "          \"Population\": \"111,222,333\"}\n",
    "}\n",
    "\n",
    "\n",
    "# using from_dict(orient='index')\n",
    "df=pd.DataFrame.from_dict(countries,orient='index')\n",
    "print(df)\n",
    "\n",
    "\n",
    "# List of nested dictionary initialization\n",
    "list_d = [{\n",
    "        \"Student\": [{\"Exam\": 90, \"Grade\": \"a\"},\n",
    "                    {\"Exam\": 99, \"Grade\": \"b\"},\n",
    "                    {\"Exam\": 97, \"Grade\": \"c\"},\n",
    "                    ],\n",
    "        \"Name\": \"Paras Jain\"\n",
    "        },\n",
    "        {\n",
    "        \"Student\": [{\"Exam\": 89, \"Grade\": \"a\"},\n",
    "                    {\"Exam\": 80, \"Grade\": \"b\"}\n",
    "                    ],\n",
    "        \"Name\": \"Chunky Pandey\"\n",
    "        }\n",
    "        ]\n",
    "\n",
    "\n",
    "# new list named “rows” is initialized to store flattened data. \n",
    "# The code iterates through the original list of dictionaries, \n",
    "# extracting each student’s exam details along with their name \n",
    "# and appends the flattened rows to create a Pandas DataFrame, which is then displayed.\n",
    "\n",
    "\n",
    "# rows list initialization\n",
    "rows = []\n",
    " \n",
    "# appending rows\n",
    "for data in list_d:\n",
    "    data_row = data['Student']\n",
    "    time = data['Name']\n",
    " \n",
    "    for row in data_row:\n",
    "        row['Name'] = time\n",
    "        rows.append(row)\n",
    "\n",
    "# it is important to convert such kind of data into a type which is recognized by DataFrame(), \n",
    "# like here we are converting into dictionory of dictionaries\n",
    "\n",
    "print(rows)\n",
    "\n",
    "# using data frame\n",
    "df = pd.DataFrame(rows)\n",
    " \n",
    "print(df)\n",
    "\n",
    "df=df.pivot_table(index='Name', columns=['Grade'], values=['Exam']).reset_index()\n",
    "df.columns=['Name','Maths','Physics','Chemistry']\n",
    "print(df)\n"
   ]
  },
  {
   "cell_type": "markdown",
   "id": "dcc1370d-2608-43e6-af8c-fe4a763b166f",
   "metadata": {},
   "source": [
    "day2 end: next day start point:</br>\n",
    "create a new file, and there summarize all the above create dataframe syntex</br>\n",
    "https://www.geeksforgeeks.org/replace-values-in-pandas-dataframe-using-regex/?ref=next_article\n"
   ]
  }
 ],
 "metadata": {
  "kernelspec": {
   "display_name": "Python 3 (ipykernel)",
   "language": "python",
   "name": "python3"
  },
  "language_info": {
   "codemirror_mode": {
    "name": "ipython",
    "version": 3
   },
   "file_extension": ".py",
   "mimetype": "text/x-python",
   "name": "python",
   "nbconvert_exporter": "python",
   "pygments_lexer": "ipython3",
   "version": "3.12.4"
  }
 },
 "nbformat": 4,
 "nbformat_minor": 5
}
