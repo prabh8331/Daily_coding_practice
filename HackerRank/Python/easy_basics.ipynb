{
 "cells": [
  {
   "cell_type": "markdown",
   "id": "34523879-4460-473c-be47-c26572aabd7b",
   "metadata": {},
   "source": [
    "1. Say \"Hello, World!\" With Python"
   ]
  },
  {
   "cell_type": "code",
   "execution_count": 3,
   "id": "0b331bd7-0f3c-42df-b73f-dd8cf3308378",
   "metadata": {},
   "outputs": [
    {
     "name": "stdout",
     "output_type": "stream",
     "text": [
      "Hello, World!\n"
     ]
    }
   ],
   "source": [
    "if __name__ == '__main__':\n",
    "    print(\"Hello, World!\")"
   ]
  },
  {
   "cell_type": "markdown",
   "id": "f9c107ce-d35c-4c8c-8c86-5dd4e8316be5",
   "metadata": {},
   "source": [
    "2. Python If-Else</br>\n",
    "Task\n",
    "Given an integer,n , perform the following conditional actions:\n",
    "\n",
    "If n is odd, print Weird\n",
    "If n is even and in the inclusive range of 2 to 5, print Not Weird\n",
    "If n is even and in the inclusive range of 6 to 20, print Weird\n",
    "If n is even and greater than 20, print Not Weird"
   ]
  },
  {
   "cell_type": "code",
   "execution_count": 4,
   "id": "25f0df63-6418-4812-a016-dd0799d98a96",
   "metadata": {},
   "outputs": [
    {
     "name": "stdin",
     "output_type": "stream",
     "text": [
      " 24\n"
     ]
    },
    {
     "name": "stdout",
     "output_type": "stream",
     "text": [
      "Not Weird\n"
     ]
    }
   ],
   "source": [
    "# My solution \n",
    "\n",
    "#!/bin/python3\n",
    "\n",
    "import math\n",
    "import os\n",
    "import random\n",
    "import re\n",
    "import sys\n",
    "\n",
    "\n",
    "\n",
    "if __name__ == '__main__':\n",
    "    n = int(input().strip())\n",
    "    if n%2!=0:\n",
    "        print(\"Weird\")\n",
    "    elif n%2==0 and n>=2 and n<=5:\n",
    "        print(\"Not Weird\")\n",
    "    elif n%2==0 and n>=6 and n<=20:\n",
    "        print(\"Weird\")\n",
    "    else:\n",
    "        print(\"Not Weird\")\n",
    "        "
   ]
  },
  {
   "cell_type": "markdown",
   "id": "85758724-977b-4616-998b-0ff2766aa3b1",
   "metadata": {},
   "source": [
    "3. Arthmetic </br>\n",
    "The provided code stub reads two integers from STDIN,  and . Add code to print three lines where:\n",
    "\n",
    "The first line contains the sum of the two numbers.\n",
    "The second line contains the difference of the two numbers (first - second).\n",
    "The third line contains the product of the two numbers."
   ]
  },
  {
   "cell_type": "code",
   "execution_count": 5,
   "id": "be039ef8-12ea-4b14-b8a7-b2d15e8793f5",
   "metadata": {},
   "outputs": [
    {
     "name": "stdin",
     "output_type": "stream",
     "text": [
      " 3\n",
      " 2\n"
     ]
    },
    {
     "name": "stdout",
     "output_type": "stream",
     "text": [
      "5\n",
      "1\n",
      "6\n"
     ]
    }
   ],
   "source": [
    "if __name__ == '__main__':\n",
    "    a = int(input())\n",
    "    b = int(input())\n",
    "    print(a+b)\n",
    "    print(a-b)\n",
    "    print(a*b)"
   ]
  },
  {
   "cell_type": "markdown",
   "id": "404e6ae2-99eb-42e6-bcb6-6889270ac610",
   "metadata": {},
   "source": [
    "4. Python division</br>\n",
    "The provided code stub reads two integers, a and b, from STDIN.\n",
    "\n",
    "Add logic to print two lines. The first line should contain the result of integer division,  // . The second line should contain the result of float division, a / b."
   ]
  },
  {
   "cell_type": "code",
   "execution_count": 2,
   "id": "f2abc646-e53a-4bcd-b2f1-72a87ae15b89",
   "metadata": {},
   "outputs": [
    {
     "name": "stdin",
     "output_type": "stream",
     "text": [
      " 4\n",
      " 3\n"
     ]
    },
    {
     "name": "stdout",
     "output_type": "stream",
     "text": [
      "1\n",
      "1.3333333333333333\n"
     ]
    }
   ],
   "source": [
    "if __name__ == '__main__':\n",
    "    a = int(input())\n",
    "    b = int(input())\n",
    "    print(a//b)\n",
    "    print(a/b)\n",
    "    "
   ]
  },
  {
   "cell_type": "markdown",
   "id": "536c81cf-bff3-4b64-bdf6-2629352020d1",
   "metadata": {},
   "source": [
    "5.Loops </br>\n",
    "   The provided code stub reads and integer, n, from STDIN. For all non-negative integers i<n , print i<sup>2</sup>\n"
   ]
  },
  {
   "cell_type": "code",
   "execution_count": 9,
   "id": "7d8a704f-3354-4563-bd05-2f4fc3fbc496",
   "metadata": {},
   "outputs": [
    {
     "name": "stdin",
     "output_type": "stream",
     "text": [
      " 3\n"
     ]
    },
    {
     "name": "stdout",
     "output_type": "stream",
     "text": [
      "0\n",
      "1\n",
      "4\n"
     ]
    }
   ],
   "source": [
    "if __name__ == '__main__':\n",
    "    n = int(input())\n",
    "    for itr in range(n):\n",
    "        print(itr**2)"
   ]
  },
  {
   "cell_type": "markdown",
   "id": "0ac9f7c6-6dbb-4cf5-8505-e47cdd409809",
   "metadata": {},
   "source": [
    "6.Write a function</br>\n",
    "   Given a year, determine whether it is a leap year. If it is a leap year, return the Boolean True, otherwise return False.\n",
    "\n",
    "Note that the code stub provided reads from STDIN and passes arguments to the is_leap function. It is only necessary to complete the is_leap function.\n",
    "\n",
    "```\n",
    "An extra day is added to the calendar almost every four years as February 29, and the day is called a leap day. It corrects the calendar for the fact that our planet takes approximately 365.25 days to orbit the sun. A leap year contains a leap day.\n",
    "\n",
    "In the Gregorian calendar, three conditions are used to identify leap years:\n",
    "\n",
    "- The year can be evenly divided by 4, is a leap year, unless:\n",
    "    - The year can be evenly divided by 100, it is NOT a leap year, unless:\n",
    "        - The year is also evenly divisible by 400. Then it is a leap year.\n",
    "This means that in the Gregorian calendar, the years 2000 and 2400 are leap years, while 1800, 1900, 2100, 2200, 2300 and 2500 are NOT leap years.\n",
    "\n",
    "```\n"
   ]
  },
  {
   "cell_type": "code",
   "execution_count": 11,
   "id": "39cb6f83-fcf9-4742-aed4-28eeeccf3d85",
   "metadata": {},
   "outputs": [
    {
     "name": "stdin",
     "output_type": "stream",
     "text": [
      " 1990\n"
     ]
    },
    {
     "name": "stdout",
     "output_type": "stream",
     "text": [
      "False\n"
     ]
    }
   ],
   "source": [
    "def is_leap(year):\n",
    "    leap = False\n",
    "    \n",
    "    if year%4==0:\n",
    "        if year%100==0:\n",
    "            if year%400==0:\n",
    "                leap=True\n",
    "        else: \n",
    "            leap=True\n",
    "    \n",
    "    return leap\n",
    "\n",
    "year = int(input())\n",
    "print(is_leap(year))"
   ]
  },
  {
   "cell_type": "markdown",
   "id": "7dbe2c32-e49a-4e8b-ac2b-33cb2daf5734",
   "metadata": {},
   "source": [
    "7.Print Function</br>\n",
    "   The included code stub will read an integer,n , from STDIN.\n",
    "\n",
    "Without using any string methods, try to print the following:\n",
    "123...n\n",
    "\n",
    "Example\n",
    "n=5\n",
    "Print the string 12345."
   ]
  },
  {
   "cell_type": "code",
   "execution_count": 12,
   "id": "a43466fd-2ac0-46dd-a6ac-8d99e581dae6",
   "metadata": {},
   "outputs": [
    {
     "name": "stdin",
     "output_type": "stream",
     "text": [
      " 3\n"
     ]
    },
    {
     "name": "stdout",
     "output_type": "stream",
     "text": [
      "123"
     ]
    }
   ],
   "source": [
    "if __name__ == '__main__':\n",
    "    n = int(input())\n",
    "    for i in range(n):\n",
    "        print(i+1,end=\"\")\n"
   ]
  },
  {
   "cell_type": "markdown",
   "id": "b43156e1-6171-49db-bb37-467472989ab6",
   "metadata": {},
   "source": [
    "8. Find the Runner-up Score!</br>\n",
    "   Given the participants' score sheet for your University Sports Day, you are required to find the runner-up score. You are given n scores. Store them in a list and find the score of the runner-up.\n",
    "\n",
    "Given list is [2,3,6,6,5]. The maximum score is 6, second maximum is 5. Hence, we print 5 as the runner-up score."
   ]
  },
  {
   "cell_type": "code",
   "execution_count": 16,
   "id": "ae0c661e-6996-4aff-8007-fdc9671ccaa4",
   "metadata": {},
   "outputs": [
    {
     "name": "stdin",
     "output_type": "stream",
     "text": [
      " 5\n",
      " 2 3 6 6 5\n"
     ]
    },
    {
     "name": "stdout",
     "output_type": "stream",
     "text": [
      "5\n"
     ]
    }
   ],
   "source": [
    "# my sol\n",
    "if __name__ == '__main__':\n",
    "    n = int(input())\n",
    "    arr = list(map(int, input().split()))\n",
    "    high=arr[0]\n",
    "    low=arr[0]\n",
    "    for i in arr:\n",
    "        if i>high:\n",
    "            high=i\n",
    "        if i<low:\n",
    "            low=i\n",
    "    \n",
    "    shigh=low\n",
    "    for i in arr:\n",
    "        if i>shigh and i<high:\n",
    "            shigh=i\n",
    "    print(shigh)\n",
    "            \n",
    "            "
   ]
  },
  {
   "cell_type": "code",
   "execution_count": 17,
   "id": "5fdbead8-da63-481f-bf32-82f692e2eac2",
   "metadata": {},
   "outputs": [
    {
     "name": "stdin",
     "output_type": "stream",
     "text": [
      " 5\n",
      " 2 3 6 6 5\n"
     ]
    },
    {
     "name": "stdout",
     "output_type": "stream",
     "text": [
      "5\n"
     ]
    }
   ],
   "source": [
    "# solution from chatgpt\n",
    "if __name__ == '__main__':\n",
    "    n = int(input())\n",
    "    arr = list(map(int, input().split()))\n",
    "    \n",
    "    # Find the highest score\n",
    "    high = max(arr)\n",
    "    \n",
    "    # Set shigh to None or a very low number initially\n",
    "    shigh = None\n",
    "    \n",
    "    for i in arr:\n",
    "        if i != high:  # Ignore the highest score itself\n",
    "            if shigh is None or i > shigh:  # Find the runner-up\n",
    "                shigh = i\n",
    "    \n",
    "    print(shigh)\n"
   ]
  },
  {
   "cell_type": "markdown",
   "id": "36a44663-730b-45b3-a0c0-f790891766a6",
   "metadata": {},
   "source": [
    "9. Nested Lists </br>\n",
    "Given the names and grades for each student in a class of N students, store them in a nested list and print the name(s) of any student(s) having the second lowest grade.\n",
    "Note: If there are multiple students with the second lowest grade, order their names alphabetically and print each name on a new line.\n",
    "```py\n",
    "if __name__ == '__main__':\n",
    "    for _ in range(int(input())):\n",
    "        name = input()\n",
    "        score = float(input())\n",
    "```\n"
   ]
  },
  {
   "cell_type": "code",
   "execution_count": 28,
   "id": "aa21f069-7e7c-4751-b663-94d35b99e173",
   "metadata": {},
   "outputs": [
    {
     "name": "stdout",
     "output_type": "stream",
     "text": [
      "Berry\n",
      "Harry\n"
     ]
    }
   ],
   "source": [
    "input_data = \"\"\"\n",
    "5\n",
    "Harry\n",
    "37.21\n",
    "Berry\n",
    "37.21\n",
    "Tina\n",
    "37.2\n",
    "Akriti\n",
    "41\n",
    "Harsh\n",
    "39\n",
    "\"\"\".strip().splitlines()\n",
    "\n",
    "def custom_input():\n",
    "    return input_data.pop(0)\n",
    "\n",
    "if __name__ == '__main__':\n",
    "    students=list()\n",
    "    for _ in range(int(custom_input())):\n",
    "        name = custom_input()\n",
    "        score = float(custom_input())\n",
    "        students.append([name, score])\n",
    "    \n",
    "    high=students[0][1]\n",
    "    low=students[0][1]\n",
    "    \n",
    "    for i in students:\n",
    "        if i[1]>high:\n",
    "            high=i[1]\n",
    "        if i[1]<low:\n",
    "            low=i[1]\n",
    "\n",
    "    slow=high\n",
    "    \n",
    "    for i in students:\n",
    "        if i[1]<slow and i[1]>low:\n",
    "            slow=i[1]\n",
    "    \n",
    "    snames=list()\n",
    "    for i in students:\n",
    "        if i[1]==slow:\n",
    "            snames.append(i[0])\n",
    "            \n",
    "    snames.sort()\n",
    "    print(\"\\n\".join(snames))\n",
    "\n",
    "    "
   ]
  },
  {
   "cell_type": "markdown",
   "id": "f8bf7a30-cec5-4349-87e0-87a135f0cc52",
   "metadata": {},
   "source": [
    "10. Finding the percentage</br>\n",
    "The provided code stub will read in a dictionary containing key/value pairs of name:[marks] for a list of students. Print the average of the marks array for the student name provided, showing 2 places after the decimal.\n",
    "\n",
    "```py\n",
    "if __name__ == '__main__':\n",
    "    n = int(input())\n",
    "    student_marks = {}\n",
    "    for _ in range(n):\n",
    "        name, *line = input().split()\n",
    "        scores = list(map(float, line))\n",
    "        student_marks[name] = scores\n",
    "    query_name = input()\n",
    "```"
   ]
  },
  {
   "cell_type": "code",
   "execution_count": null,
   "id": "3a65b0c9-be68-4503-bbb4-b83a7e755c57",
   "metadata": {},
   "outputs": [],
   "source": [
    "if __name__ == '__main__':\n",
    "    n = int(input())\n",
    "    student_marks = {}\n",
    "    for _ in range(n):\n",
    "        name, *line = input().split()\n",
    "        scores = list(map(float, line))\n",
    "        student_marks[name] = scores\n",
    "    query_name = input()"
   ]
  },
  {
   "cell_type": "code",
   "execution_count": 39,
   "id": "00b7ca2b-8c68-4494-8cc0-02019108feae",
   "metadata": {},
   "outputs": [
    {
     "name": "stdout",
     "output_type": "stream",
     "text": [
      "56.00\n"
     ]
    }
   ],
   "source": [
    "input_data = \"\"\"\n",
    "3\n",
    "Krishna 67 68 69\n",
    "Arjun 70 98 63\n",
    "Malika 52 56 60\n",
    "Malika\n",
    "\"\"\".strip().splitlines()\n",
    "\n",
    "def custom_input():\n",
    "    return input_data.pop(0)\n",
    "\n",
    "if __name__ == '__main__':\n",
    "    n = int(custom_input())\n",
    "    student_marks = {}\n",
    "    for _ in range(n):\n",
    "        name, *line = custom_input().split()\n",
    "        scores = list(map(float, line))\n",
    "        student_marks[name] = scores\n",
    "    query_name = custom_input()\n",
    "\n",
    "    \n",
    "    sum=0\n",
    "    cnt=0\n",
    "    for i in student_marks[query_name]:\n",
    "        sum=sum+i\n",
    "        cnt=cnt+1\n",
    "    avg=sum/cnt\n",
    "    print(f\"{avg:.2f}\")\n",
    "    "
   ]
  }
 ],
 "metadata": {
  "kernelspec": {
   "display_name": "Python 3 (ipykernel)",
   "language": "python",
   "name": "python3"
  },
  "language_info": {
   "codemirror_mode": {
    "name": "ipython",
    "version": 3
   },
   "file_extension": ".py",
   "mimetype": "text/x-python",
   "name": "python",
   "nbconvert_exporter": "python",
   "pygments_lexer": "ipython3",
   "version": "3.12.4"
  }
 },
 "nbformat": 4,
 "nbformat_minor": 5
}
