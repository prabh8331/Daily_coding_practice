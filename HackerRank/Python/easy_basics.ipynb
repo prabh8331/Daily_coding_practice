{
 "cells": [
  {
   "cell_type": "markdown",
   "id": "34523879-4460-473c-be47-c26572aabd7b",
   "metadata": {},
   "source": [
    "1. Say \"Hello, World!\" With Python"
   ]
  },
  {
   "cell_type": "code",
   "execution_count": 3,
   "id": "0b331bd7-0f3c-42df-b73f-dd8cf3308378",
   "metadata": {},
   "outputs": [
    {
     "name": "stdout",
     "output_type": "stream",
     "text": [
      "Hello, World!\n"
     ]
    }
   ],
   "source": [
    "if __name__ == '__main__':\n",
    "    print(\"Hello, World!\")"
   ]
  },
  {
   "cell_type": "markdown",
   "id": "f9c107ce-d35c-4c8c-8c86-5dd4e8316be5",
   "metadata": {},
   "source": [
    "2. Python If-Else</br>\n",
    "Task\n",
    "Given an integer,n , perform the following conditional actions:\n",
    "\n",
    "If n is odd, print Weird\n",
    "If n is even and in the inclusive range of 2 to 5, print Not Weird\n",
    "If n is even and in the inclusive range of 6 to 20, print Weird\n",
    "If n is even and greater than 20, print Not Weird"
   ]
  },
  {
   "cell_type": "code",
   "execution_count": 4,
   "id": "25f0df63-6418-4812-a016-dd0799d98a96",
   "metadata": {},
   "outputs": [
    {
     "name": "stdin",
     "output_type": "stream",
     "text": [
      " 24\n"
     ]
    },
    {
     "name": "stdout",
     "output_type": "stream",
     "text": [
      "Not Weird\n"
     ]
    }
   ],
   "source": [
    "# My solution \n",
    "\n",
    "#!/bin/python3\n",
    "\n",
    "import math\n",
    "import os\n",
    "import random\n",
    "import re\n",
    "import sys\n",
    "\n",
    "\n",
    "\n",
    "if __name__ == '__main__':\n",
    "    n = int(input().strip())\n",
    "    if n%2!=0:\n",
    "        print(\"Weird\")\n",
    "    elif n%2==0 and n>=2 and n<=5:\n",
    "        print(\"Not Weird\")\n",
    "    elif n%2==0 and n>=6 and n<=20:\n",
    "        print(\"Weird\")\n",
    "    else:\n",
    "        print(\"Not Weird\")\n",
    "        "
   ]
  },
  {
   "cell_type": "markdown",
   "id": "85758724-977b-4616-998b-0ff2766aa3b1",
   "metadata": {},
   "source": [
    "3. Arthmetic </br>\n",
    "The provided code stub reads two integers from STDIN,  and . Add code to print three lines where:\n",
    "\n",
    "The first line contains the sum of the two numbers.\n",
    "The second line contains the difference of the two numbers (first - second).\n",
    "The third line contains the product of the two numbers."
   ]
  },
  {
   "cell_type": "code",
   "execution_count": 5,
   "id": "be039ef8-12ea-4b14-b8a7-b2d15e8793f5",
   "metadata": {},
   "outputs": [
    {
     "name": "stdin",
     "output_type": "stream",
     "text": [
      " 3\n",
      " 2\n"
     ]
    },
    {
     "name": "stdout",
     "output_type": "stream",
     "text": [
      "5\n",
      "1\n",
      "6\n"
     ]
    }
   ],
   "source": [
    "if __name__ == '__main__':\n",
    "    a = int(input())\n",
    "    b = int(input())\n",
    "    print(a+b)\n",
    "    print(a-b)\n",
    "    print(a*b)"
   ]
  },
  {
   "cell_type": "markdown",
   "id": "404e6ae2-99eb-42e6-bcb6-6889270ac610",
   "metadata": {},
   "source": [
    "4. Python division</br>\n",
    "The provided code stub reads two integers, a and b, from STDIN.\n",
    "\n",
    "Add logic to print two lines. The first line should contain the result of integer division,  // . The second line should contain the result of float division, a / b."
   ]
  },
  {
   "cell_type": "code",
   "execution_count": 2,
   "id": "f2abc646-e53a-4bcd-b2f1-72a87ae15b89",
   "metadata": {},
   "outputs": [
    {
     "name": "stdin",
     "output_type": "stream",
     "text": [
      " 4\n",
      " 3\n"
     ]
    },
    {
     "name": "stdout",
     "output_type": "stream",
     "text": [
      "1\n",
      "1.3333333333333333\n"
     ]
    }
   ],
   "source": [
    "if __name__ == '__main__':\n",
    "    a = int(input())\n",
    "    b = int(input())\n",
    "    print(a//b)\n",
    "    print(a/b)\n",
    "    "
   ]
  },
  {
   "cell_type": "markdown",
   "id": "536c81cf-bff3-4b64-bdf6-2629352020d1",
   "metadata": {},
   "source": [
    "5.Loops </br>\n",
    "   The provided code stub reads and integer, n, from STDIN. For all non-negative integers i<n , print i<sup>2</sup>\n"
   ]
  },
  {
   "cell_type": "code",
   "execution_count": 9,
   "id": "7d8a704f-3354-4563-bd05-2f4fc3fbc496",
   "metadata": {},
   "outputs": [
    {
     "name": "stdin",
     "output_type": "stream",
     "text": [
      " 3\n"
     ]
    },
    {
     "name": "stdout",
     "output_type": "stream",
     "text": [
      "0\n",
      "1\n",
      "4\n"
     ]
    }
   ],
   "source": [
    "if __name__ == '__main__':\n",
    "    n = int(input())\n",
    "    for itr in range(n):\n",
    "        print(itr**2)"
   ]
  },
  {
   "cell_type": "markdown",
   "id": "0ac9f7c6-6dbb-4cf5-8505-e47cdd409809",
   "metadata": {},
   "source": [
    "6.Write a function</br>\n",
    "   Given a year, determine whether it is a leap year. If it is a leap year, return the Boolean True, otherwise return False.\n",
    "\n",
    "Note that the code stub provided reads from STDIN and passes arguments to the is_leap function. It is only necessary to complete the is_leap function.\n",
    "\n",
    "```\n",
    "An extra day is added to the calendar almost every four years as February 29, and the day is called a leap day. It corrects the calendar for the fact that our planet takes approximately 365.25 days to orbit the sun. A leap year contains a leap day.\n",
    "\n",
    "In the Gregorian calendar, three conditions are used to identify leap years:\n",
    "\n",
    "- The year can be evenly divided by 4, is a leap year, unless:\n",
    "    - The year can be evenly divided by 100, it is NOT a leap year, unless:\n",
    "        - The year is also evenly divisible by 400. Then it is a leap year.\n",
    "This means that in the Gregorian calendar, the years 2000 and 2400 are leap years, while 1800, 1900, 2100, 2200, 2300 and 2500 are NOT leap years.\n",
    "\n",
    "```\n"
   ]
  },
  {
   "cell_type": "code",
   "execution_count": 11,
   "id": "39cb6f83-fcf9-4742-aed4-28eeeccf3d85",
   "metadata": {},
   "outputs": [
    {
     "name": "stdin",
     "output_type": "stream",
     "text": [
      " 1990\n"
     ]
    },
    {
     "name": "stdout",
     "output_type": "stream",
     "text": [
      "False\n"
     ]
    }
   ],
   "source": [
    "def is_leap(year):\n",
    "    leap = False\n",
    "    \n",
    "    if year%4==0:\n",
    "        if year%100==0:\n",
    "            if year%400==0:\n",
    "                leap=True\n",
    "        else: \n",
    "            leap=True\n",
    "    \n",
    "    return leap\n",
    "\n",
    "year = int(input())\n",
    "print(is_leap(year))"
   ]
  },
  {
   "cell_type": "markdown",
   "id": "7dbe2c32-e49a-4e8b-ac2b-33cb2daf5734",
   "metadata": {},
   "source": [
    "7.Print Function</br>\n",
    "   The included code stub will read an integer,n , from STDIN.\n",
    "\n",
    "Without using any string methods, try to print the following:\n",
    "123...n\n",
    "\n",
    "Example\n",
    "n=5\n",
    "Print the string 12345."
   ]
  },
  {
   "cell_type": "code",
   "execution_count": 12,
   "id": "a43466fd-2ac0-46dd-a6ac-8d99e581dae6",
   "metadata": {},
   "outputs": [
    {
     "name": "stdin",
     "output_type": "stream",
     "text": [
      " 3\n"
     ]
    },
    {
     "name": "stdout",
     "output_type": "stream",
     "text": [
      "123"
     ]
    }
   ],
   "source": [
    "if __name__ == '__main__':\n",
    "    n = int(input())\n",
    "    for i in range(n):\n",
    "        print(i+1,end=\"\")\n"
   ]
  },
  {
   "cell_type": "markdown",
   "id": "b43156e1-6171-49db-bb37-467472989ab6",
   "metadata": {},
   "source": [
    "8. Find the Runner-up Score!</br>\n",
    "   Given the participants' score sheet for your University Sports Day, you are required to find the runner-up score. You are given n scores. Store them in a list and find the score of the runner-up.\n",
    "\n",
    "Given list is [2,3,6,6,5]. The maximum score is 6, second maximum is 5. Hence, we print 5 as the runner-up score."
   ]
  },
  {
   "cell_type": "code",
   "execution_count": 16,
   "id": "ae0c661e-6996-4aff-8007-fdc9671ccaa4",
   "metadata": {},
   "outputs": [
    {
     "name": "stdin",
     "output_type": "stream",
     "text": [
      " 5\n",
      " 2 3 6 6 5\n"
     ]
    },
    {
     "name": "stdout",
     "output_type": "stream",
     "text": [
      "5\n"
     ]
    }
   ],
   "source": [
    "# my sol\n",
    "if __name__ == '__main__':\n",
    "    n = int(input())\n",
    "    arr = list(map(int, input().split()))\n",
    "    high=arr[0]\n",
    "    low=arr[0]\n",
    "    for i in arr:\n",
    "        if i>high:\n",
    "            high=i\n",
    "        if i<low:\n",
    "            low=i\n",
    "    \n",
    "    shigh=low\n",
    "    for i in arr:\n",
    "        if i>shigh and i<high:\n",
    "            shigh=i\n",
    "    print(shigh)\n",
    "            \n",
    "            "
   ]
  },
  {
   "cell_type": "code",
   "execution_count": 17,
   "id": "5fdbead8-da63-481f-bf32-82f692e2eac2",
   "metadata": {},
   "outputs": [
    {
     "name": "stdin",
     "output_type": "stream",
     "text": [
      " 5\n",
      " 2 3 6 6 5\n"
     ]
    },
    {
     "name": "stdout",
     "output_type": "stream",
     "text": [
      "5\n"
     ]
    }
   ],
   "source": [
    "# solution from chatgpt\n",
    "if __name__ == '__main__':\n",
    "    n = int(input())\n",
    "    arr = list(map(int, input().split()))\n",
    "    \n",
    "    # Find the highest score\n",
    "    high = max(arr)\n",
    "    \n",
    "    # Set shigh to None or a very low number initially\n",
    "    shigh = None\n",
    "    \n",
    "    for i in arr:\n",
    "        if i != high:  # Ignore the highest score itself\n",
    "            if shigh is None or i > shigh:  # Find the runner-up\n",
    "                shigh = i\n",
    "    \n",
    "    print(shigh)\n"
   ]
  }
 ],
 "metadata": {
  "kernelspec": {
   "display_name": "Python 3 (ipykernel)",
   "language": "python",
   "name": "python3"
  },
  "language_info": {
   "codemirror_mode": {
    "name": "ipython",
    "version": 3
   },
   "file_extension": ".py",
   "mimetype": "text/x-python",
   "name": "python",
   "nbconvert_exporter": "python",
   "pygments_lexer": "ipython3",
   "version": "3.12.4"
  }
 },
 "nbformat": 4,
 "nbformat_minor": 5
}
